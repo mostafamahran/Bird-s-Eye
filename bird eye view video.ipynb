{
 "cells": [
  {
   "cell_type": "markdown",
   "metadata": {},
   "source": [
    "### Import Libararies"
   ]
  },
  {
   "cell_type": "code",
   "execution_count": 1,
   "metadata": {},
   "outputs": [],
   "source": [
    "import numpy as np \n",
    "import cv2 "
   ]
  },
  {
   "cell_type": "code",
   "execution_count": 13,
   "metadata": {},
   "outputs": [
    {
     "data": {
      "text/plain": [
       "True"
      ]
     },
     "execution_count": 13,
     "metadata": {},
     "output_type": "execute_result"
    }
   ],
  },
  {
   "cell_type": "markdown",
   "metadata": {},
   "source": [
    "### Steps for bird`s eye view\n",
    "\n",
    "1. Start making a prespective transformation for a highway image.\n",
    "2. Make a bird eye view video."
   ]
  },
  {
   "cell_type": "markdown",
   "metadata": {},
   "source": [
    "### The Following images shows the input and the output"
   ]
  },
  {
   "cell_type": "markdown",
   "metadata": {},
   "source": [
    "\n",
    "<img src=\"Input.jpg\" width=\"300\" height=\"300\">          <img title='OUTPUT' src=\"output.jpg\" width=\"300\" height=\"300\">\n"
   ]
  },
  {
   "cell_type": "code",
   "execution_count": 8,
   "metadata": {},
   "outputs": [],
   "source": [
    "def bird_eye():\n",
    "    cap = cv2.VideoCapture('C:\\\\Users\\\\Mostafa\\\\Desktop\\\\Computer vision\\\\road.mp4') ## link of the viedo\n",
    "\n",
    "    while(1):\n",
    "        ret,frame = cap.read()\n",
    "        if ret == True:\n",
    "\n",
    "        #     cv2.circle(frame,(500,550),5,(0,0,255),-1) # top left\n",
    "        #     cv2.circle(frame,(770,550),5,(0,0,255),-1) # top right \n",
    "        #     cv2.circle(frame,(200,630),5,(0,0,255),-1) # bot left \n",
    "        #     cv2.circle(frame,(1135,630),5,(0,0,255),-1) # bottom right \n",
    "\n",
    "            pts1 = np.float32([[500,550],[770,550],[200,630],[1135,630]])\n",
    "            pts2 = np.float32([[0,0],[500,0],[0,500],[500,500]])\n",
    "\n",
    "    #         pts2 = np.float32([[0,0],[frame.shape[0]-20,0],[0,frame.shape[1]-20],[frame.shape[0]-20,frame.shape[1]-20]])\n",
    "\n",
    "            matrix = cv2.getPerspectiveTransform(pts1,pts2)\n",
    "            result = cv2.warpPerspective(frame,matrix,(500,500))\n",
    "    #         result = cv2.warpPerspective(frame,matrix,(frame.shape[1],frame.shape[0]))\n",
    "\n",
    "            cv2.imshow('frame',frame)\n",
    "            cv2.imshow('Perspectivetransform',result)\n",
    "            \n",
    "            if cv2.waitKey(10) & 0xFF == ord('g'): \n",
    "                cv2.imwrite('output.jpg',result)   \n",
    "            \n",
    "\n",
    "            k = cv2.waitKey(5) & 0xFF\n",
    "            if k == 27:\n",
    "                    break\n",
    "\n",
    "    cv2.destroyAllWindows()\n",
    "    cap.release()    \n"
   ]
  },
  {
   "cell_type": "code",
   "execution_count": 9,
   "metadata": {},
   "outputs": [],
   "source": [
    "bird_eye()"
   ]
  }
 ],
 "metadata": {
  "kernelspec": {
   "display_name": "Python 3",
   "language": "python",
   "name": "python3"
  },
  "language_info": {
   "codemirror_mode": {
    "name": "ipython",
    "version": 3
   },
   "file_extension": ".py",
   "mimetype": "text/x-python",
   "name": "python",
   "nbconvert_exporter": "python",
   "pygments_lexer": "ipython3",
   "version": "3.8.3"
  }
 },
 "nbformat": 4,
 "nbformat_minor": 4
}
